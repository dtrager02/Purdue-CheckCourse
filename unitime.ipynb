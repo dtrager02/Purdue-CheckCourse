{
 "cells": [
  {
   "cell_type": "code",
   "execution_count": 3,
   "source": [
    "from selenium import webdriver\r\n",
    "from selenium.webdriver.common.keys import Keys\r\n",
    "import time\r\n",
    "from datetime import datetime\r\n",
    "from bs4 import BeautifulSoup\r\n",
    "from IPython.display import Audio \r\n",
    "from IPython.core.display import display\r\n",
    "\r\n",
    "fp = webdriver.FirefoxProfile(r'\\Users\\daniel\\AppData\\Roaming\\Mozilla\\Firefox\\Profiles\\l2p8reuf.default')  \r\n",
    "driver = webdriver.Firefox(fp)\r\n",
    "url = input(\"Put Unitime Link Such as \\n'https://timetable.mypurdue.purdue.edu/Timetabling/gwt.jsp?page=classes#name=STAT+35500&term=Fall2021PWL':\\t\")  \r\n",
    "driver.get(url)\r\n",
    "\r\n",
    "input(\"Ready?\")\r\n",
    "unchecked = True\r\n",
    "time.sleep(5)\r\n",
    "lastPlay = datetime.now()\r\n",
    "while True:\r\n",
    "    enroll  = driver.find_element_by_xpath('/html/body/span[3]/span/span[2]/span[1]/span[3]/span[2]/div/table/tbody/tr[3]/td/table/tbody/tr[2]/td/div/div/div/table/tbody/tr[2]/td[15]/div').get_attribute(\"innerHTML\").splitlines()[0] \r\n",
    "    limit  = driver.find_element_by_xpath('/html/body/span[3]/span/span[2]/span[1]/span[3]/span[2]/div/table/tbody/tr[3]/td/table/tbody/tr[2]/td/div/div/div/table/tbody/tr[2]/td[16]/div').get_attribute(\"innerHTML\").splitlines()[0] \r\n",
    "    print(enroll,limit)\r\n",
    "    if int(enroll) <= int(limit):\r\n",
    "        #do sound\r\n",
    "        print(\"ALERT!  \" + datetime.now().strftime(\"%H:%M:%S\"))\r\n",
    "        if (datetime.now()-lastPlay).total_seconds() > 30:\r\n",
    "            lastPlay = datetime.now()\r\n",
    "            display(Audio('mp3_sound.mp3', autoplay=True))\r\n",
    "            unchecked = False\r\n",
    "        \r\n",
    "    driver.refresh()\r\n",
    "    time.sleep(10)\r\n",
    "   \r\n",
    "\r\n"
   ],
   "outputs": [],
   "metadata": {}
  },
  {
   "cell_type": "code",
   "execution_count": null,
   "source": [
    "display(Audio('mp3_sound.mp3', autoplay=True))"
   ],
   "outputs": [],
   "metadata": {}
  }
 ],
 "metadata": {
  "kernelspec": {
   "name": "python3",
   "display_name": "Python 3.9.4 64-bit ('data': conda)"
  },
  "language_info": {
   "codemirror_mode": {
    "name": "ipython",
    "version": 3
   },
   "file_extension": ".py",
   "mimetype": "text/x-python",
   "name": "python",
   "nbconvert_exporter": "python",
   "pygments_lexer": "ipython3",
   "version": "3.9.4"
  },
  "interpreter": {
   "hash": "b6f9190aa35034c8159d6673af56b5093da9eb7d37a06fef8611f39115199f87"
  }
 },
 "nbformat": 4,
 "nbformat_minor": 5
}